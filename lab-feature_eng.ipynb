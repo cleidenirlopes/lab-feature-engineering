{
 "cells": [
  {
   "cell_type": "markdown",
   "metadata": {},
   "source": [
    "# LAB | Feature Engineering"
   ]
  },
  {
   "cell_type": "markdown",
   "metadata": {},
   "source": [
    "**Load the data**\n",
    "\n",
    "In this challenge, we will be working with the same Spaceship Titanic data, like the previous Lab. The data can be found here:\n",
    "\n",
    "https://raw.githubusercontent.com/data-bootcamp-v4/data/main/spaceship_titanic.csv\n",
    "\n",
    "Metadata\n",
    "\n",
    "https://github.com/data-bootcamp-v4/data/blob/main/spaceship_titanic.md"
   ]
  },
  {
   "cell_type": "code",
   "execution_count": 6,
   "metadata": {},
   "outputs": [],
   "source": [
    "#Libraries\n",
    "import pandas as pd\n",
    "import numpy as np\n",
    "from sklearn.model_selection import train_test_split\n",
    "\n",
    "from tabulate import tabulate"
   ]
  },
  {
   "cell_type": "code",
   "execution_count": 9,
   "metadata": {},
   "outputs": [
    {
     "data": {
      "text/html": [
       "<div>\n",
       "<style scoped>\n",
       "    .dataframe tbody tr th:only-of-type {\n",
       "        vertical-align: middle;\n",
       "    }\n",
       "\n",
       "    .dataframe tbody tr th {\n",
       "        vertical-align: top;\n",
       "    }\n",
       "\n",
       "    .dataframe thead th {\n",
       "        text-align: right;\n",
       "    }\n",
       "</style>\n",
       "<table border=\"1\" class=\"dataframe\">\n",
       "  <thead>\n",
       "    <tr style=\"text-align: right;\">\n",
       "      <th></th>\n",
       "      <th>PassengerId</th>\n",
       "      <th>HomePlanet</th>\n",
       "      <th>CryoSleep</th>\n",
       "      <th>Cabin</th>\n",
       "      <th>Destination</th>\n",
       "      <th>Age</th>\n",
       "      <th>VIP</th>\n",
       "      <th>RoomService</th>\n",
       "      <th>FoodCourt</th>\n",
       "      <th>ShoppingMall</th>\n",
       "      <th>Spa</th>\n",
       "      <th>VRDeck</th>\n",
       "      <th>Name</th>\n",
       "      <th>Transported</th>\n",
       "    </tr>\n",
       "  </thead>\n",
       "  <tbody>\n",
       "    <tr>\n",
       "      <th>0</th>\n",
       "      <td>0001_01</td>\n",
       "      <td>Europa</td>\n",
       "      <td>False</td>\n",
       "      <td>B/0/P</td>\n",
       "      <td>TRAPPIST-1e</td>\n",
       "      <td>39.0</td>\n",
       "      <td>False</td>\n",
       "      <td>0.0</td>\n",
       "      <td>0.0</td>\n",
       "      <td>0.0</td>\n",
       "      <td>0.0</td>\n",
       "      <td>0.0</td>\n",
       "      <td>Maham Ofracculy</td>\n",
       "      <td>False</td>\n",
       "    </tr>\n",
       "    <tr>\n",
       "      <th>1</th>\n",
       "      <td>0002_01</td>\n",
       "      <td>Earth</td>\n",
       "      <td>False</td>\n",
       "      <td>F/0/S</td>\n",
       "      <td>TRAPPIST-1e</td>\n",
       "      <td>24.0</td>\n",
       "      <td>False</td>\n",
       "      <td>109.0</td>\n",
       "      <td>9.0</td>\n",
       "      <td>25.0</td>\n",
       "      <td>549.0</td>\n",
       "      <td>44.0</td>\n",
       "      <td>Juanna Vines</td>\n",
       "      <td>True</td>\n",
       "    </tr>\n",
       "    <tr>\n",
       "      <th>2</th>\n",
       "      <td>0003_01</td>\n",
       "      <td>Europa</td>\n",
       "      <td>False</td>\n",
       "      <td>A/0/S</td>\n",
       "      <td>TRAPPIST-1e</td>\n",
       "      <td>58.0</td>\n",
       "      <td>True</td>\n",
       "      <td>43.0</td>\n",
       "      <td>3576.0</td>\n",
       "      <td>0.0</td>\n",
       "      <td>6715.0</td>\n",
       "      <td>49.0</td>\n",
       "      <td>Altark Susent</td>\n",
       "      <td>False</td>\n",
       "    </tr>\n",
       "    <tr>\n",
       "      <th>3</th>\n",
       "      <td>0003_02</td>\n",
       "      <td>Europa</td>\n",
       "      <td>False</td>\n",
       "      <td>A/0/S</td>\n",
       "      <td>TRAPPIST-1e</td>\n",
       "      <td>33.0</td>\n",
       "      <td>False</td>\n",
       "      <td>0.0</td>\n",
       "      <td>1283.0</td>\n",
       "      <td>371.0</td>\n",
       "      <td>3329.0</td>\n",
       "      <td>193.0</td>\n",
       "      <td>Solam Susent</td>\n",
       "      <td>False</td>\n",
       "    </tr>\n",
       "    <tr>\n",
       "      <th>4</th>\n",
       "      <td>0004_01</td>\n",
       "      <td>Earth</td>\n",
       "      <td>False</td>\n",
       "      <td>F/1/S</td>\n",
       "      <td>TRAPPIST-1e</td>\n",
       "      <td>16.0</td>\n",
       "      <td>False</td>\n",
       "      <td>303.0</td>\n",
       "      <td>70.0</td>\n",
       "      <td>151.0</td>\n",
       "      <td>565.0</td>\n",
       "      <td>2.0</td>\n",
       "      <td>Willy Santantines</td>\n",
       "      <td>True</td>\n",
       "    </tr>\n",
       "  </tbody>\n",
       "</table>\n",
       "</div>"
      ],
      "text/plain": [
       "  PassengerId HomePlanet CryoSleep  Cabin  Destination   Age    VIP  \\\n",
       "0     0001_01     Europa     False  B/0/P  TRAPPIST-1e  39.0  False   \n",
       "1     0002_01      Earth     False  F/0/S  TRAPPIST-1e  24.0  False   \n",
       "2     0003_01     Europa     False  A/0/S  TRAPPIST-1e  58.0   True   \n",
       "3     0003_02     Europa     False  A/0/S  TRAPPIST-1e  33.0  False   \n",
       "4     0004_01      Earth     False  F/1/S  TRAPPIST-1e  16.0  False   \n",
       "\n",
       "   RoomService  FoodCourt  ShoppingMall     Spa  VRDeck               Name  \\\n",
       "0          0.0        0.0           0.0     0.0     0.0    Maham Ofracculy   \n",
       "1        109.0        9.0          25.0   549.0    44.0       Juanna Vines   \n",
       "2         43.0     3576.0           0.0  6715.0    49.0      Altark Susent   \n",
       "3          0.0     1283.0         371.0  3329.0   193.0       Solam Susent   \n",
       "4        303.0       70.0         151.0   565.0     2.0  Willy Santantines   \n",
       "\n",
       "   Transported  \n",
       "0        False  \n",
       "1         True  \n",
       "2        False  \n",
       "3        False  \n",
       "4         True  "
      ]
     },
     "execution_count": 9,
     "metadata": {},
     "output_type": "execute_result"
    }
   ],
   "source": [
    "spaceship = pd.read_csv(\"https://raw.githubusercontent.com/data-bootcamp-v4/data/main/spaceship_titanic.csv\")\n",
    "spaceship.head()"
   ]
  },
  {
   "cell_type": "markdown",
   "metadata": {},
   "source": [
    "**Check the shape of your data**"
   ]
  },
  {
   "cell_type": "code",
   "execution_count": 10,
   "metadata": {},
   "outputs": [
    {
     "name": "stdout",
     "output_type": "stream",
     "text": [
      "+--------+-----------+\n",
      "|   Rows |   Columns |\n",
      "+========+===========+\n",
      "|   8693 |        14 |\n",
      "+--------+-----------+\n"
     ]
    }
   ],
   "source": [
    "# Check the shape of your data\n",
    "print(tabulate([spaceship.shape], headers=['Rows', 'Columns'], tablefmt='grid'))"
   ]
  },
  {
   "cell_type": "markdown",
   "metadata": {},
   "source": [
    "**Check for data types**"
   ]
  },
  {
   "cell_type": "code",
   "execution_count": 11,
   "metadata": {},
   "outputs": [
    {
     "name": "stdout",
     "output_type": "stream",
     "text": [
      "+--------------+-------------+\n",
      "| Column       | Data Type   |\n",
      "+==============+=============+\n",
      "| PassengerId  | object      |\n",
      "+--------------+-------------+\n",
      "| HomePlanet   | object      |\n",
      "+--------------+-------------+\n",
      "| CryoSleep    | object      |\n",
      "+--------------+-------------+\n",
      "| Cabin        | object      |\n",
      "+--------------+-------------+\n",
      "| Destination  | object      |\n",
      "+--------------+-------------+\n",
      "| Age          | float64     |\n",
      "+--------------+-------------+\n",
      "| VIP          | object      |\n",
      "+--------------+-------------+\n",
      "| RoomService  | float64     |\n",
      "+--------------+-------------+\n",
      "| FoodCourt    | float64     |\n",
      "+--------------+-------------+\n",
      "| ShoppingMall | float64     |\n",
      "+--------------+-------------+\n",
      "| Spa          | float64     |\n",
      "+--------------+-------------+\n",
      "| VRDeck       | float64     |\n",
      "+--------------+-------------+\n",
      "| Name         | object      |\n",
      "+--------------+-------------+\n",
      "| Transported  | bool        |\n",
      "+--------------+-------------+\n"
     ]
    }
   ],
   "source": [
    "#Check for data types\n",
    "print(tabulate(spaceship.dtypes.reset_index().values, headers=['Column', 'Data Type'], tablefmt='grid'))"
   ]
  },
  {
   "cell_type": "markdown",
   "metadata": {},
   "source": [
    "**Check for missing values**"
   ]
  },
  {
   "cell_type": "code",
   "execution_count": 12,
   "metadata": {},
   "outputs": [
    {
     "name": "stdout",
     "output_type": "stream",
     "text": [
      "+--------------+------------------+\n",
      "| Column       |   Missing Values |\n",
      "+==============+==================+\n",
      "| PassengerId  |                0 |\n",
      "+--------------+------------------+\n",
      "| HomePlanet   |              201 |\n",
      "+--------------+------------------+\n",
      "| CryoSleep    |              217 |\n",
      "+--------------+------------------+\n",
      "| Cabin        |              199 |\n",
      "+--------------+------------------+\n",
      "| Destination  |              182 |\n",
      "+--------------+------------------+\n",
      "| Age          |              179 |\n",
      "+--------------+------------------+\n",
      "| VIP          |              203 |\n",
      "+--------------+------------------+\n",
      "| RoomService  |              181 |\n",
      "+--------------+------------------+\n",
      "| FoodCourt    |              183 |\n",
      "+--------------+------------------+\n",
      "| ShoppingMall |              208 |\n",
      "+--------------+------------------+\n",
      "| Spa          |              183 |\n",
      "+--------------+------------------+\n",
      "| VRDeck       |              188 |\n",
      "+--------------+------------------+\n",
      "| Name         |              200 |\n",
      "+--------------+------------------+\n",
      "| Transported  |                0 |\n",
      "+--------------+------------------+\n"
     ]
    }
   ],
   "source": [
    "#Check for missing values\n",
    "print(tabulate(spaceship.isnull().sum().reset_index().values, headers=['Column', 'Missing Values'], tablefmt='grid'))"
   ]
  },
  {
   "cell_type": "markdown",
   "metadata": {},
   "source": [
    "There are multiple strategies to handle missing data\n",
    "\n",
    "- Removing all rows or all columns containing missing data.\n",
    "- Filling all missing values with a value (mean in continouos or mode in categorical for example).\n",
    "- Filling all missing values with an algorithm.\n",
    "\n",
    "For this exercise, because we have such low amount of null values, we will drop rows containing any missing value. "
   ]
  },
  {
   "cell_type": "code",
   "execution_count": 13,
   "metadata": {},
   "outputs": [
    {
     "name": "stdout",
     "output_type": "stream",
     "text": [
      "+--------------+------------------+\n",
      "| Column       |   Missing Values |\n",
      "+==============+==================+\n",
      "| PassengerId  |                0 |\n",
      "+--------------+------------------+\n",
      "| HomePlanet   |                0 |\n",
      "+--------------+------------------+\n",
      "| CryoSleep    |                0 |\n",
      "+--------------+------------------+\n",
      "| Cabin        |                0 |\n",
      "+--------------+------------------+\n",
      "| Destination  |                0 |\n",
      "+--------------+------------------+\n",
      "| Age          |                0 |\n",
      "+--------------+------------------+\n",
      "| VIP          |                0 |\n",
      "+--------------+------------------+\n",
      "| RoomService  |                0 |\n",
      "+--------------+------------------+\n",
      "| FoodCourt    |                0 |\n",
      "+--------------+------------------+\n",
      "| ShoppingMall |                0 |\n",
      "+--------------+------------------+\n",
      "| Spa          |                0 |\n",
      "+--------------+------------------+\n",
      "| VRDeck       |                0 |\n",
      "+--------------+------------------+\n",
      "| Name         |                0 |\n",
      "+--------------+------------------+\n",
      "| Transported  |                0 |\n",
      "+--------------+------------------+\n"
     ]
    }
   ],
   "source": [
    "#Removing all rows or all columns containing missing data.\n",
    "spaceship.dropna(axis=0, how='any', inplace=True)\n",
    "\n",
    "print(tabulate(spaceship.isnull().sum().reset_index().values, headers=['Column', 'Missing Values'], tablefmt='grid'))\n"
   ]
  },
  {
   "cell_type": "markdown",
   "metadata": {},
   "source": [
    "- **Cabin** is too granular - transform it in order to obtain {'A', 'B', 'C', 'D', 'E', 'F', 'G', 'T'}"
   ]
  },
  {
   "cell_type": "code",
   "execution_count": 14,
   "metadata": {},
   "outputs": [
    {
     "name": "stdout",
     "output_type": "stream",
     "text": [
      "   Cabin Deck\n",
      "0  B/0/P    B\n",
      "1  F/0/S    F\n",
      "2  A/0/S    A\n",
      "3  A/0/S    A\n",
      "4  F/1/S    F\n",
      "\n",
      "Unique values in 'Deck' column:\n",
      "['B' 'F' 'A' 'G' 'E' 'C' 'D' 'T']\n"
     ]
    }
   ],
   "source": [
    "import pandas as pd\n",
    "\n",
    "# Function to extract the deck from the Cabin string\n",
    "def extract_deck(cabin):\n",
    "    if isinstance(cabin, str):\n",
    "        return cabin.split('/')[0]\n",
    "    return None  # Handle potential missing or malformed values\n",
    "\n",
    "# Apply the function to the 'Cabin' column to create a new 'Deck' column\n",
    "spaceship['Deck'] = spaceship['Cabin'].apply(extract_deck)\n",
    "\n",
    "# Display the first few rows with the new 'Deck' column\n",
    "print(spaceship[['Cabin', 'Deck']].head())\n",
    "\n",
    "# Check the unique values in the 'Deck' column\n",
    "print(\"\\nUnique values in 'Deck' column:\")\n",
    "print(spaceship['Deck'].unique())"
   ]
  },
  {
   "cell_type": "markdown",
   "metadata": {},
   "source": [
    "- Drop PassengerId and Name"
   ]
  },
  {
   "cell_type": "code",
   "execution_count": 15,
   "metadata": {},
   "outputs": [
    {
     "name": "stdout",
     "output_type": "stream",
     "text": [
      "  HomePlanet CryoSleep  Cabin  Destination   Age    VIP  RoomService  \\\n",
      "0     Europa     False  B/0/P  TRAPPIST-1e  39.0  False          0.0   \n",
      "1      Earth     False  F/0/S  TRAPPIST-1e  24.0  False        109.0   \n",
      "2     Europa     False  A/0/S  TRAPPIST-1e  58.0   True         43.0   \n",
      "3     Europa     False  A/0/S  TRAPPIST-1e  33.0  False          0.0   \n",
      "4      Earth     False  F/1/S  TRAPPIST-1e  16.0  False        303.0   \n",
      "\n",
      "   FoodCourt  ShoppingMall     Spa  VRDeck  Transported Deck  \n",
      "0        0.0           0.0     0.0     0.0        False    B  \n",
      "1        9.0          25.0   549.0    44.0         True    F  \n",
      "2     3576.0           0.0  6715.0    49.0        False    A  \n",
      "3     1283.0         371.0  3329.0   193.0        False    A  \n",
      "4       70.0         151.0   565.0     2.0         True    F  \n",
      "\n",
      "Remaining Columns:\n",
      "Index(['HomePlanet', 'CryoSleep', 'Cabin', 'Destination', 'Age', 'VIP',\n",
      "       'RoomService', 'FoodCourt', 'ShoppingMall', 'Spa', 'VRDeck',\n",
      "       'Transported', 'Deck'],\n",
      "      dtype='object')\n"
     ]
    }
   ],
   "source": [
    "# Drop the 'PassengerId' and 'Name' columns\n",
    "spaceship_dropped = spaceship.drop(columns=['PassengerId', 'Name'])\n",
    "\n",
    "# Display the first few rows of the DataFrame after dropping the columns\n",
    "print(spaceship_dropped.head())\n",
    "\n",
    "# Print the remaining columns to verify\n",
    "print(\"\\nRemaining Columns:\")\n",
    "print(spaceship_dropped.columns)"
   ]
  },
  {
   "cell_type": "markdown",
   "metadata": {},
   "source": [
    "- For non-numerical columns, do dummies."
   ]
  },
  {
   "cell_type": "code",
   "execution_count": 16,
   "metadata": {},
   "outputs": [
    {
     "name": "stdout",
     "output_type": "stream",
     "text": [
      "Categorical Columns before One-Hot Encoding:\n",
      "Index(['HomePlanet', 'CryoSleep', 'Cabin', 'Destination', 'VIP', 'Deck'], dtype='object')\n",
      "\n",
      "DataFrame with Dummy Variables (first 5 rows):\n",
      "    Age  RoomService  FoodCourt  ShoppingMall     Spa  VRDeck  Transported  \\\n",
      "0  39.0          0.0        0.0           0.0     0.0     0.0        False   \n",
      "1  24.0        109.0        9.0          25.0   549.0    44.0         True   \n",
      "2  58.0         43.0     3576.0           0.0  6715.0    49.0        False   \n",
      "3  33.0          0.0     1283.0         371.0  3329.0   193.0        False   \n",
      "4  16.0        303.0       70.0         151.0   565.0     2.0         True   \n",
      "\n",
      "   HomePlanet_Europa  HomePlanet_Mars  CryoSleep_True  ...  \\\n",
      "0               True            False           False  ...   \n",
      "1              False            False           False  ...   \n",
      "2               True            False           False  ...   \n",
      "3               True            False           False  ...   \n",
      "4              False            False           False  ...   \n",
      "\n",
      "   Destination_PSO J318.5-22  Destination_TRAPPIST-1e  VIP_True  Deck_B  \\\n",
      "0                      False                     True     False    True   \n",
      "1                      False                     True     False   False   \n",
      "2                      False                     True      True   False   \n",
      "3                      False                     True     False   False   \n",
      "4                      False                     True     False   False   \n",
      "\n",
      "   Deck_C  Deck_D  Deck_E  Deck_F  Deck_G  Deck_T  \n",
      "0   False   False   False   False   False   False  \n",
      "1   False   False   False    True   False   False  \n",
      "2   False   False   False   False   False   False  \n",
      "3   False   False   False   False   False   False  \n",
      "4   False   False   False    True   False   False  \n",
      "\n",
      "[5 rows x 5324 columns]\n",
      "\n",
      "Columns after One-Hot Encoding:\n",
      "Index(['Age', 'RoomService', 'FoodCourt', 'ShoppingMall', 'Spa', 'VRDeck',\n",
      "       'Transported', 'HomePlanet_Europa', 'HomePlanet_Mars', 'CryoSleep_True',\n",
      "       ...\n",
      "       'Destination_PSO J318.5-22', 'Destination_TRAPPIST-1e', 'VIP_True',\n",
      "       'Deck_B', 'Deck_C', 'Deck_D', 'Deck_E', 'Deck_F', 'Deck_G', 'Deck_T'],\n",
      "      dtype='object', length=5324)\n"
     ]
    }
   ],
   "source": [
    "# Select non-numerical columns\n",
    "categorical_cols = spaceship_dropped.select_dtypes(include=['object']).columns\n",
    "\n",
    "print(\"Categorical Columns before One-Hot Encoding:\")\n",
    "print(categorical_cols)\n",
    "\n",
    "# Perform one-hot encoding (creating dummy variables)\n",
    "spaceship_dummies = pd.get_dummies(spaceship_dropped, columns=categorical_cols, drop_first=True)\n",
    "\n",
    "# Display the first few rows of the DataFrame with dummy variables\n",
    "print(\"\\nDataFrame with Dummy Variables (first 5 rows):\")\n",
    "print(spaceship_dummies.head())\n",
    "\n",
    "# Print the new columns after one-hot encoding\n",
    "print(\"\\nColumns after One-Hot Encoding:\")\n",
    "print(spaceship_dummies.columns)"
   ]
  },
  {
   "cell_type": "markdown",
   "metadata": {},
   "source": [
    "**Perform Train Test Split**"
   ]
  },
  {
   "cell_type": "code",
   "execution_count": 17,
   "metadata": {},
   "outputs": [
    {
     "name": "stdout",
     "output_type": "stream",
     "text": [
      "X_train shape: (5284, 5323)\n",
      "X_test shape: (1322, 5323)\n",
      "y_train shape: (5284,)\n",
      "y_test shape: (1322,)\n"
     ]
    }
   ],
   "source": [
    "from sklearn.model_selection import train_test_split\n",
    "\n",
    "# Separate features (X) and target (y) from the dataframe with dummies\n",
    "X_processed = spaceship_dummies.drop(columns=['Transported'])\n",
    "y = spaceship_dummies['Transported'].astype(int) # Ensure target is numerical\n",
    "\n",
    "# Split the processed data into training and testing sets\n",
    "X_train, X_test, y_train, y_test = train_test_split(X_processed, y, test_size=0.2, random_state=42)\n",
    "\n",
    "# Display the shapes of the resulting sets\n",
    "print(\"X_train shape:\", X_train.shape)\n",
    "print(\"X_test shape:\", X_test.shape)\n",
    "print(\"y_train shape:\", y_train.shape)\n",
    "print(\"y_test shape:\", y_test.shape)"
   ]
  },
  {
   "cell_type": "markdown",
   "metadata": {},
   "source": [
    "**Model Selection**"
   ]
  },
  {
   "cell_type": "markdown",
   "metadata": {},
   "source": [
    "In this exercise we will be using **KNN** as our predictive model."
   ]
  },
  {
   "cell_type": "code",
   "execution_count": 19,
   "metadata": {},
   "outputs": [
    {
     "name": "stdout",
     "output_type": "stream",
     "text": [
      "KNN Classifier initialized and fitted to the scaled training data.\n"
     ]
    }
   ],
   "source": [
    "from sklearn.neighbors import KNeighborsClassifier\n",
    "from sklearn.preprocessing import StandardScaler\n",
    "\n",
    "# Initialize the StandardScaler\n",
    "scaler = StandardScaler()\n",
    "\n",
    "# Fit the scaler to the training features and transform them\n",
    "X_train_scaled = scaler.fit_transform(X_train)\n",
    "\n",
    "# Transform the test features using the fitted scaler\n",
    "X_test_scaled = scaler.transform(X_test)\n",
    "\n",
    "# Initialize the KNN Classifier (you can start with a default number of neighbors, e.g., 5)\n",
    "knn_classifier = KNeighborsClassifier(n_neighbors=5)\n",
    "\n",
    "# Fit the KNN classifier to the scaled training data\n",
    "knn_classifier.fit(X_train_scaled, y_train)\n",
    "\n",
    "print(\"KNN Classifier initialized and fitted to the scaled training data.\")"
   ]
  },
  {
   "cell_type": "markdown",
   "metadata": {},
   "source": [
    "- Evaluate your model's performance. Comment it"
   ]
  },
  {
   "cell_type": "code",
   "execution_count": 20,
   "metadata": {},
   "outputs": [
    {
     "name": "stdout",
     "output_type": "stream",
     "text": [
      "Evaluation Metrics:\n",
      "Accuracy: 0.6369\n",
      "Precision: 0.6056\n",
      "Recall: 0.8102\n",
      "F1-score: 0.6931\n",
      "\n",
      "Comments on Model Performance:\n",
      "- **Accuracy:** This metric tells us the overall percentage of passengers whose transportation status was correctly predicted by the model on the test set.\n",
      "  With an accuracy of 0.6369, the model correctly predicted approximately 63.69% of the cases.\n",
      "- **Precision:** Precision measures out of all the passengers the model predicted as 'Transported', what proportion were actually transported. It's about the model's ability to avoid false positives.\n",
      "  A precision of 0.6056 indicates that when the model predicted a passenger would be transported, it was correct about 60.56% of the time.\n",
      "- **Recall:** Recall measures out of all the passengers who were actually 'Transported', what proportion did the model correctly identify. It's about the model's ability to avoid false negatives.\n",
      "  A recall of 0.8102 suggests that the model correctly identified 81.02% of all the passengers who were actually transported.\n",
      "- **F1-score:** The F1-score is the harmonic mean of precision and recall. It provides a single score that balances both concerns. It's particularly useful when you have an uneven class distribution.\n",
      "  An F1-score of 0.6931 gives a balanced view of the model's performance in terms of both precision and recall.\n",
      "\n",
      "Further Considerations:\n",
      "- The specific values of these metrics should be interpreted in the context of the problem and the importance of avoiding false positives versus false negatives.\n",
      "- Depending on the goals of predicting passenger transportation, you might prioritize one metric over others.\n",
      "- This evaluation is based on the default `n_neighbors` value (5). Tuning this and other hyperparameters could potentially improve the model's performance.\n"
     ]
    }
   ],
   "source": [
    "from sklearn.metrics import accuracy_score, precision_score, recall_score, f1_score\n",
    "\n",
    "\n",
    "# Make predictions on the scaled test data\n",
    "y_pred = knn_classifier.predict(X_test_scaled)\n",
    "\n",
    "# Calculate evaluation metrics\n",
    "accuracy = accuracy_score(y_test, y_pred)\n",
    "precision = precision_score(y_test, y_pred)\n",
    "recall = recall_score(y_test, y_pred)\n",
    "f1 = f1_score(y_test, y_pred)\n",
    "\n",
    "# Print the evaluation metrics\n",
    "print(\"Evaluation Metrics:\")\n",
    "print(f\"Accuracy: {accuracy:.4f}\")\n",
    "print(f\"Precision: {precision:.4f}\")\n",
    "print(f\"Recall: {recall:.4f}\")\n",
    "print(f\"F1-score: {f1:.4f}\")\n",
    "\n",
    "print(\"\\nComments on Model Performance:\")\n",
    "print(\"- **Accuracy:** This metric tells us the overall percentage of passengers whose transportation status was correctly predicted by the model on the test set.\")\n",
    "print(f\"  With an accuracy of {accuracy:.4f}, the model correctly predicted approximately {accuracy * 100:.2f}% of the cases.\")\n",
    "print(\"- **Precision:** Precision measures out of all the passengers the model predicted as 'Transported', what proportion were actually transported. It's about the model's ability to avoid false positives.\")\n",
    "print(f\"  A precision of {precision:.4f} indicates that when the model predicted a passenger would be transported, it was correct about {precision * 100:.2f}% of the time.\")\n",
    "print(\"- **Recall:** Recall measures out of all the passengers who were actually 'Transported', what proportion did the model correctly identify. It's about the model's ability to avoid false negatives.\")\n",
    "print(f\"  A recall of {recall:.4f} suggests that the model correctly identified {recall * 100:.2f}% of all the passengers who were actually transported.\")\n",
    "print(\"- **F1-score:** The F1-score is the harmonic mean of precision and recall. It provides a single score that balances both concerns. It's particularly useful when you have an uneven class distribution.\")\n",
    "print(f\"  An F1-score of {f1:.4f} gives a balanced view of the model's performance in terms of both precision and recall.\")\n",
    "\n",
    "print(\"\\nFurther Considerations:\")\n",
    "print(\"- The specific values of these metrics should be interpreted in the context of the problem and the importance of avoiding false positives versus false negatives.\")\n",
    "print(\"- Depending on the goals of predicting passenger transportation, you might prioritize one metric over others.\")\n",
    "print(\"- This evaluation is based on the default `n_neighbors` value (5). Tuning this and other hyperparameters could potentially improve the model's performance.\")"
   ]
  }
 ],
 "metadata": {
  "kernelspec": {
   "display_name": "Python 3",
   "language": "python",
   "name": "python3"
  },
  "language_info": {
   "codemirror_mode": {
    "name": "ipython",
    "version": 3
   },
   "file_extension": ".py",
   "mimetype": "text/x-python",
   "name": "python",
   "nbconvert_exporter": "python",
   "pygments_lexer": "ipython3",
   "version": "3.10.0"
  }
 },
 "nbformat": 4,
 "nbformat_minor": 2
}
